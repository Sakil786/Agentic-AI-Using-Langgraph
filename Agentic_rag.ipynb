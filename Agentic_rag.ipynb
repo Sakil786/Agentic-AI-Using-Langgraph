{
  "nbformat": 4,
  "nbformat_minor": 0,
  "metadata": {
    "colab": {
      "provenance": [],
      "gpuType": "T4"
    },
    "kernelspec": {
      "name": "python3",
      "display_name": "Python 3"
    },
    "language_info": {
      "name": "python"
    },
    "accelerator": "GPU"
  },
  "cells": [
    {
      "cell_type": "code",
      "execution_count": null,
      "metadata": {
        "id": "cOWn3MRTYk3l"
      },
      "outputs": [],
      "source": [
        "! pip install langgraph langchain-community pypdf faiss-cpu sentence-transformers langchain-groq"
      ]
    },
    {
      "cell_type": "code",
      "source": [
        "from langgraph.graph import StateGraph, END\n",
        "from langchain_community.vectorstores import FAISS\n",
        "from langchain_community.document_loaders import PyPDFLoader\n",
        "from langchain_text_splitters import RecursiveCharacterTextSplitter\n",
        "from langchain_community.embeddings import HuggingFaceEmbeddings\n",
        "from langchain_groq import ChatGroq\n",
        "from langchain_core.prompts import ChatPromptTemplate\n",
        "from langchain_core.documents import Document\n",
        "from typing import List, TypedDict\n",
        "import os"
      ],
      "metadata": {
        "id": "sH6zCUwXZmBh"
      },
      "execution_count": 1,
      "outputs": []
    },
    {
      "cell_type": "code",
      "source": [],
      "metadata": {
        "id": "5qFqGzikZoCA"
      },
      "execution_count": null,
      "outputs": []
    },
    {
      "cell_type": "code",
      "source": [
        "from dotenv import load_dotenv\n",
        "load_dotenv()"
      ],
      "metadata": {
        "colab": {
          "base_uri": "https://localhost:8080/"
        },
        "id": "T1MAki9ObmwG",
        "outputId": "2e0abdf3-6ab6-44c1-f195-75b0cd3dfde3"
      },
      "execution_count": 9,
      "outputs": [
        {
          "output_type": "execute_result",
          "data": {
            "text/plain": [
              "True"
            ]
          },
          "metadata": {},
          "execution_count": 9
        }
      ]
    },
    {
      "cell_type": "code",
      "source": [
        "from langgraph.graph import StateGraph, END\n",
        "from langchain_community.vectorstores import FAISS\n",
        "from langchain_community.document_loaders import PyPDFLoader\n",
        "from langchain_text_splitters import RecursiveCharacterTextSplitter\n",
        "from langchain_community.embeddings import HuggingFaceEmbeddings\n",
        "from langchain_groq import ChatGroq\n",
        "from langchain_core.prompts import ChatPromptTemplate\n",
        "from langchain_core.documents import Document\n",
        "from typing import List, TypedDict\n",
        "import os\n",
        "\n",
        "# Configuration\n",
        "PDF_PATH = \"/content/your_pdfs_directory/Sakil_Resume.pdf\"\n",
        "INDEX_NAME = \"faiss_resume_index\"\n",
        "\n",
        "# 1. Create Vector Store\n",
        "def create_resume_index():\n",
        "    loader = PyPDFLoader(PDF_PATH)\n",
        "    pages = loader.load()\n",
        "\n",
        "    text_splitter = RecursiveCharacterTextSplitter(\n",
        "        chunk_size=1000,\n",
        "        chunk_overlap=200\n",
        "    )\n",
        "    splits = text_splitter.split_documents(pages)\n",
        "\n",
        "    embeddings = HuggingFaceEmbeddings(\n",
        "        model_name=\"sentence-transformers/all-MiniLM-L6-v2\"\n",
        "    )\n",
        "\n",
        "    vectorstore = FAISS.from_documents(splits, embeddings)\n",
        "    vectorstore.save_local(INDEX_NAME)\n",
        "    return vectorstore\n",
        "\n",
        "# 2. Load Index\n",
        "def load_resume_index():\n",
        "    embeddings = HuggingFaceEmbeddings(\n",
        "        model_name=\"sentence-transformers/all-MiniLM-L6-v2\"\n",
        "    )\n",
        "\n",
        "    if not os.path.exists(f\"{INDEX_NAME}/index.faiss\"):\n",
        "        return create_resume_index()\n",
        "\n",
        "    return FAISS.load_local(\n",
        "        folder_path=INDEX_NAME,\n",
        "        embeddings=embeddings,\n",
        "        allow_dangerous_deserialization=True\n",
        "    )\n",
        "\n",
        "# 3. Initialize Components\n",
        "vectorstore = load_resume_index()\n",
        "llm = ChatGroq(temperature=0, model_name=\"deepseek-r1-distill-llama-70b\")\n",
        "\n",
        "class AnalystReview:\n",
        "    def __init__(self, llm):\n",
        "        self.llm = llm\n",
        "        self.grading_prompt = ChatPromptTemplate.from_template(\n",
        "            \"\"\"Analyze the answer based on the resume:\n",
        "            Question: {question}\n",
        "            Context: {context}\n",
        "            Answer: {answer}\n",
        "\n",
        "            Should this answer be approved? Respond only with Yes/No.\"\"\"\n",
        "        )\n",
        "\n",
        "    def grade(self, question: str, context: List[Document], answer: str) -> str:\n",
        "        chain = self.grading_prompt | self.llm\n",
        "        result = chain.invoke({\n",
        "            \"question\": question,\n",
        "            \"context\": \"\\n\".join([doc.page_content for doc in context]),\n",
        "            \"answer\": answer\n",
        "        })\n",
        "        return result.content.strip().split()[0]\n",
        "\n",
        "# 4. Define Nodes\n",
        "def retrieve_documents(state: WorkflowState):\n",
        "    docs = vectorstore.similarity_search(state[\"question\"], k=3)\n",
        "    return {\"context\": docs}\n",
        "\n",
        "def generate_answer(state: WorkflowState):\n",
        "    context_str = \"\\n\".join([doc.page_content for doc in state[\"context\"]])\n",
        "    response = llm.invoke(f\"\"\"\n",
        "        Answer based on this resume content:\n",
        "        {context_str}\n",
        "\n",
        "        Question: {state[\"question\"]}\n",
        "\n",
        "        If the answer is  in the resume, say 'Yes' else 'Not mentioned'.\"\"\"\n",
        "    )\n",
        "    return {\"answer\": response.content}\n",
        "\n",
        "def grade_answer(state: WorkflowState):\n",
        "    grade = AnalystReview(llm).grade(\n",
        "        state[\"question\"],\n",
        "        state[\"context\"],\n",
        "        state[\"answer\"]\n",
        "    )\n",
        "    return {\"grade\": grade}\n",
        "\n",
        "# 5. Build Workflow\n",
        "class WorkflowState(TypedDict):\n",
        "    question: str\n",
        "    context: List[Document]\n",
        "    answer: str\n",
        "    grade: str\n",
        "\n",
        "workflow = StateGraph(WorkflowState)\n",
        "workflow.add_node(\"retriever\", retrieve_documents)\n",
        "workflow.add_node(\"generator\", generate_answer)\n",
        "workflow.add_node(\"grader\", grade_answer)\n",
        "\n",
        "workflow.set_entry_point(\"retriever\")\n",
        "workflow.add_edge(\"retriever\", \"generator\")\n",
        "workflow.add_edge(\"generator\", \"grader\")\n",
        "workflow.add_edge(\"grader\", END)\n",
        "\n",
        "app = workflow.compile()\n",
        "\n",
        "\n",
        "# 6. Query Function\n",
        "def ask_question(question: str):\n",
        "    result = app.invoke({\"question\": question})\n",
        "    return {\n",
        "        \"question\": question,\n",
        "        \"answer\": result[\"answer\"],\n",
        "        \"grade\": result[\"grade\"],\n",
        "        \"sources\": [doc.metadata.get('source', '') for doc in result[\"context\"]]\n",
        "    }\n",
        "\n",
        "# Example Usage\n",
        "if __name__ == \"__main__\":\n",
        "    response = ask_question(\"What are hobbies?.\")\n",
        "    print(f\"Answer: {response['answer']}\")\n",
        "    print(f\"Grade: {response['grade']}\")\n",
        "    print(f\"Sources: {response['sources']}\")"
      ],
      "metadata": {
        "colab": {
          "base_uri": "https://localhost:8080/"
        },
        "id": "zS50989Rbg0G",
        "outputId": "97a870f6-2ac7-4e6c-ce3d-c5c0dfbaf0dc"
      },
      "execution_count": 23,
      "outputs": [
        {
          "output_type": "stream",
          "name": "stdout",
          "text": [
            "Answer: <think>\n",
            "Okay, so I need to figure out if the resume mentions any hobbies. Let me go through the resume content provided step by step.\n",
            "\n",
            "First, I'll look at the different sections. The resume starts with some technical skills like converting epoch to a readable date and storing data in databases using Python. Then there are links to the portfolio, GitHub, and LinkedIn. \n",
            "\n",
            "Next, there's a section on Leadership and Awards. It talks about helping get free education for backward communities, an award from L&T Technology Services, being a mentor in the KaggleX BIPOC Mentorship Program, and heading the Research in AI Community. These are all professional achievements and don't mention hobbies.\n",
            "\n",
            "Then there's the contact information, which is just the address, phone number, and email. No hobbies there.\n",
            "\n",
            "The Relevant Work Summary section details experience in data science, machine learning, NLP, and using various tools and libraries. Again, this is all professional experience, not hobbies.\n",
            "\n",
            "The Profile Summary mentions being an author of books and having an M.Tech in Machine Learning, along with experience in data science and related fields. It also lists technical skills and libraries they're proficient in. Still, no mention of hobbies.\n",
            "\n",
            "Under Relevant Experience, it lists job positions and the companies they've worked for, along with the time periods. This is all work-related and doesn't touch on personal hobbies.\n",
            "\n",
            "I don't see any section or bullet points that mention hobbies, interests, or anything outside of professional skills and experiences. The resume is very focused on their career, education, and technical abilities.\n",
            "\n",
            "So, based on the information provided, there's no mention of hobbies in the resume.\n",
            "</think>\n",
            "\n",
            "Not mentioned.\n",
            "Grade: <think>\n",
            "Sources: ['/content/your_pdfs_directory/Sakil_Resume.pdf', '/content/your_pdfs_directory/Sakil_Resume.pdf', '/content/your_pdfs_directory/Sakil_Resume.pdf']\n"
          ]
        }
      ]
    },
    {
      "cell_type": "code",
      "source": [
        "from IPython.display import Image, display\n",
        "\n",
        "try:\n",
        "    display(Image(app.get_graph().draw_mermaid_png()))\n",
        "except Exception:\n",
        "    # This requires some extra dependencies and is optional\n",
        "    pass"
      ],
      "metadata": {
        "colab": {
          "base_uri": "https://localhost:8080/",
          "height": 449
        },
        "id": "-ovCyAarcs2z",
        "outputId": "b06501e7-c73b-40cd-ee63-bb0f17e2a3d0"
      },
      "execution_count": 22,
      "outputs": [
        {
          "output_type": "display_data",
          "data": {
            "image/png": "[encoded data removed]",
            "text/plain": [
              "<IPython.core.display.Image object>"
            ]
          },
          "metadata": {}
        }
      ]
    },
    {
      "cell_type": "code",
      "source": [],
      "metadata": {
        "id": "mmoEJob3e6px"
      },
      "execution_count": null,
      "outputs": []
    }
  ]
}